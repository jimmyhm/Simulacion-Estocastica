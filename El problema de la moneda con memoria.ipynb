{
 "cells": [
  {
   "cell_type": "markdown",
   "metadata": {},
   "source": [
    "### Una moneda con memoria"
   ]
  },
  {
   "cell_type": "markdown",
   "metadata": {},
   "source": [
    "Supongamos que tenemos una moneda que se acuerda de lo que salió en el volado anterior. Específicamente, si $X_{n}$ denota el resultado de $n$-ésimo volado y denotamos como ``0'' al hecho de que aparezca águila, vamos a suponer que \n",
    "\\begin{equation}\n",
    "P[X_{n}=1|X_{n-1}=0]=\\theta \\mbox{ y } P[X_{n}=0|X_{n-1}=0]=\\mu, \\hspace{1cm}(1)\\nonumber\n",
    "\\end{equation}\n",
    "con $\\theta, \\mu \\in (0,1)$. ¿Cuál es la probabilidad de obtener un águila en un lanzamiento cualquiera, independientemente de lo que pasó en el volado anterior?"
   ]
  },
  {
   "cell_type": "markdown",
   "metadata": {},
   "source": [
    "Definimos entonces \n",
    "\\begin{equation*}\n",
    "X_{n}=\\mbox{El resultado del  $n$-ésimo volado}.\n",
    "\\end{equation*}\n",
    "Como estamos denotando a  \"0\" al hecho de que aparezca águila entonces al hecho de salga sol la denotamos como \"1\".\n",
    "De este modo, las variables aleatorias $X_{n}\\in \\{0,1\\}$ y esto para cada $n\\in N$.\\\\\n",
    "Por hipótesis tenemos una moneda que se acuerda de lo que salió en el volado anterior, lo que nos sugiere que podemos \n",
    "``interpretar'' a la sucesión $\\{X_{n}\\}_{n\\geq 1}$ como una cadena de Markov y con espacio de estados $S=\\{0, 1\\}$.\\\\\n",
    "Luego, calculemos la matriz de transición de esta cadena. Para esto, ocuparemos las probabilidades de transición dadas en la expresión anterior y también usaremos que la matriz de transición debe ser una matriz estocástica. Así que la matriz buscada es "
   ]
  },
  {
   "cell_type": "markdown",
   "metadata": {},
   "source": [
    "\\begin{equation}\n",
    "P=\\left(\\begin{matrix}\n",
    "1-\\theta&\\theta\\\\\n",
    "\\mu& 1-\\mu\n",
    "\\end{matrix}\\right). \\hspace{1cm}(2) \\nonumber\n",
    "\\end{equation}\n",
    "Para una cadena de Markov en general se sabe que podemos encontrar la distribución de cada variable $X_{n}$, $n\\in N\\setminus\\{0\\}$ si conocemos su matrix de transición y la distribución de $X_{0}$. Y se puede calcular como \n",
    "\\begin{equation}\n",
    "P[X_{n}=y]=\\sum_{x\\in S}P(X_{0}=x)p^{n}(x,y),   \\hspace{1cm}(3) \\nonumber\n",
    "\\end{equation}\n",
    "donde $S$ es el espacio de estado y $p^{n}(x,y)=P(X_{n}=y|X_{0}=x)$. Pero, la expresión enterior es equivalente a "
   ]
  },
  {
   "cell_type": "markdown",
   "metadata": {},
   "source": [
    "\n",
    "\\begin{equation}\n",
    "P[X_{n}=y]=({\\bf{\\pi_{0}}}\\hat{P}^{n})_{y}, \\hspace{1cm}(4)\\nonumber\n",
    "\\end{equation}\n",
    "dode ${\\bf{\\pi_{0}}}=[P(X_{0}=0), \\ldots,P(X_{0}=k)]$ (suponiendo que el espacio de estados es $S=\\{0, \\ldots, k\\}$) y $\\hat{P}$ es la matriz de transición de la cadena.\\\\\n",
    "Regresando a nuestro problema, usando que  ${\\bf{\\pi_{0}}}=[P(X_{0}=0), P(X_{0}=1)]$ y Ec(2), entonces de 4 se sigue que \n",
    "\\begin{equation}\n",
    "P(X_{n}=0)=\\left([P(X_{0}=0), P(X_{0}=1)]\\left(\\begin{matrix}\n",
    "1-\\theta&\\theta\\\\\n",
    "\\mu& 1-\\mu\n",
    "\\end{matrix}\\right)^{n}\\right)_{0}. \\hspace{1cm}(5)\n",
    "\\end{equation}\n",
    "Resolviendo la ecuación 5 se sigue que \n",
    "\\begin{equation}\n",
    "P(X_{n}=0)=\\frac{\\mu}{\\mu+\\theta}+(1-\\theta-\\mu)^{n}\\left(P(X_{0}=0)-\\frac{\\mu}{\\mu+\\theta}\\right).\\hspace{1cm}(6)\\nonumber\n",
    "\\end{equation}\n",
    "Análogamente se puede demostrar que "
   ]
  },
  {
   "cell_type": "markdown",
   "metadata": {},
   "source": [
    "\\begin{equation}\n",
    "P(X_{n}=1)=\\frac{\\theta}{\\mu+\\theta}+(1-\\theta-\\mu)^{n}\\left(P(X_{0}=1)-\\frac{\\theta}{\\mu+\\theta}\\right). \\hspace{1cm}(7)\n",
    "\\end{equation}\n",
    "\n",
    "Observemos que, para calcular tanto $P(X_{n}=0)$  como  $P(X_{n}=0)$  necesitamos conocer la distribución de $X_{0}$.\n",
    "Como $\\theta, \\mu \\in (0,1)$ entonces $\\lim_{n\\to \\infty}(1-\\theta-\\mu)^{n}=0$. Así que de Ec.(5) y Ec(6) se infiere que \n",
    "\\begin{equation}\n",
    "\\lim_{n\\to \\infty}P(X_{n}=0)=\\frac{\\mu}{\\mu+\\theta} \\mbox{ y } \\lim_{n\\to \\infty}P(X_{n}=1)=\\frac{\\theta}{\\mu+\\theta},\\hspace{1cm}(8)\\nonumber\n",
    "\\end{equation}\n",
    "y esto pasa independientemente de la distribución de $X_{0}$.\\\\\n",
    "De esta manera, si proponemos que ${\\bf{\\pi_{0}}}=(\\frac{\\mu}{\\mu+\\theta},\\frac{\\theta}{\\mu+\\theta})$ (qué es lo que nos sugiere la\n",
    "expresión 8 entonces en Ecs.(6 y 7) se sigue que, \n",
    "\\begin{eqnarray}\n",
    "P(X_{n}=0)&=&\\frac{\\mu}{\\mu+\\theta}+(1-\\theta-\\mu)^{n}(0)\\nonumber\\\\\n",
    "&=&\\frac{\\mu}{\\mu+\\theta} \\mbox{ y}\\\\\n",
    "P(X_{n}=1)&=&\\frac{\\theta}{\\mu+\\theta}+(1-\\theta-\\mu)^{n}0\\nonumber\\\\\n",
    "&=&\\frac{\\theta}{\\mu+\\theta}.\n",
    "\\end{eqnarray}\n",
    "Y las probabilidades $P(X_{n}=0)$ y $P(X_{n}=1)$ ya no dependen de la $n$.\\\\\n",
    "Si suponemos que $(\\mu, \\theta) = (0.42, 0.35)$, entonces $P(X_{n}=0)=\\frac{0.42}{0.42+0.35}=0.54$ y $P(X_{n}=1)=\\frac{0.35}{0.42+0.35}=0.459$, esto siempre y cuando si proponemos  ${\\bf{\\pi_{0}}}=(\\frac{\\mu}{\\mu+\\theta},\\frac{\\theta}{\\mu+\\theta})$.\\\\\n",
    "Ahora ya sabemos a que mas o menos debemos de llegar si resolvemos el problema numéricamente."
   ]
  },
  {
   "cell_type": "markdown",
   "metadata": {},
   "source": [
    "### Simulación"
   ]
  },
  {
   "cell_type": "code",
   "execution_count": 2,
   "metadata": {},
   "outputs": [
    {
     "data": {
      "text/html": [
       "<table>\n",
       "<thead><tr><th></th><th scope=col>0</th><th scope=col>1</th></tr></thead>\n",
       "<tbody>\n",
       "\t<tr><th scope=row>0</th><td>0.65</td><td>0.35</td></tr>\n",
       "\t<tr><th scope=row>1</th><td>0.42</td><td>0.58</td></tr>\n",
       "</tbody>\n",
       "</table>\n"
      ],
      "text/latex": [
       "\\begin{tabular}{r|ll}\n",
       "  & 0 & 1\\\\\n",
       "\\hline\n",
       "\t0 & 0.65 & 0.35\\\\\n",
       "\t1 & 0.42 & 0.58\\\\\n",
       "\\end{tabular}\n"
      ],
      "text/markdown": [
       "\n",
       "| <!--/--> | 0 | 1 | \n",
       "|---|---|\n",
       "| 0 | 0.65 | 0.35 | \n",
       "| 1 | 0.42 | 0.58 | \n",
       "\n",
       "\n"
      ],
      "text/plain": [
       "  0    1   \n",
       "0 0.65 0.35\n",
       "1 0.42 0.58"
      ]
     },
     "metadata": {},
     "output_type": "display_data"
    }
   ],
   "source": [
    "estados=c('0', '1')\n",
    "pi0=c(0.65,0.35) # distribucion inicial\n",
    "names(pi0) <- estados\n",
    "p<- rbind(c(0.65,0.35), c(.42, .58))\n",
    "dimnames(p) <- list(estados, estados)\n",
    "p"
   ]
  },
  {
   "cell_type": "code",
   "execution_count": 3,
   "metadata": {
    "collapsed": true
   },
   "outputs": [],
   "source": [
    "func.inic <- cumsum(pi0)\n",
    "func.act <- t(apply(p, 1, cumsum))"
   ]
  },
  {
   "cell_type": "code",
   "execution_count": 4,
   "metadata": {
    "collapsed": true
   },
   "outputs": [],
   "source": [
    "n <-6523\n",
    "U <- runif(n) \n",
    "X <- numeric(n) * NA \n",
    "j = 1; while(U[1] > func.inic[j]) j = j + 1;\n",
    "X[1] <- estados[j]\n",
    "for (i in 2:n) {\n",
    "j = 1; while(U[i] > func.act[X[i - 1], j]) j = j + 1;\n",
    "X[i] <- estados[j]\n",
    "}"
   ]
  },
  {
   "cell_type": "code",
   "execution_count": 5,
   "metadata": {},
   "outputs": [
    {
     "data": {
      "image/png": "[encoded data removed]",
      "text/plain": [
       "plot without title"
      ]
     },
     "metadata": {},
     "output_type": "display_data"
    }
   ],
   "source": [
    "options(repr.plot.width=8, repr.plot.height=5)\n",
    "plot(X[1:100],type=\"b\",xlab=\"Lanzamientos\",ylab=\"Estados\")"
   ]
  },
  {
   "cell_type": "code",
   "execution_count": null,
   "metadata": {
    "collapsed": true
   },
   "outputs": [],
   "source": []
  }
 ],
 "metadata": {
  "kernelspec": {
   "display_name": "R",
   "language": "R",
   "name": "ir"
  },
  "language_info": {
   "codemirror_mode": "r",
   "file_extension": ".r",
   "mimetype": "text/x-r-source",
   "name": "R",
   "pygments_lexer": "r",
   "version": "3.3.2"
  }
 },
 "nbformat": 4,
 "nbformat_minor": 2
}
