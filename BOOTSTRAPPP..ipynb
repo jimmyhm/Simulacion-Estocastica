{
 "cells": [
  {
   "cell_type": "markdown",
   "metadata": {},
   "source": [
    "## Bootstrap"
   ]
  },
  {
   "cell_type": "markdown",
   "metadata": {},
   "source": [
    "Suponga que tiene una muestra de tamaño $n$ de una distribución $F(x:\\theta)$ y sea $F_{n}(x)$ de la distribución empírica de la muestra. Si $\\check{\\theta_{n}}$ es un estimador de $\\theta$, una aplicación del método $bootstrap$ consiste en generar muestras de $F_{n}(x)$ para estimar el error estándar del estimador $\\tilde{\\theta_{n}}$. El algoritmo puede describirse como\n",
    "\n",
    "1. Para $i\\in J_{k}$, generar $\\{x_{1}^{(i)}, \\ldots, x_{n}^{(i)}\\}$ observaciones independientes de $F_{n}(x)$.\n",
    "2. Para $i\\in J_{k}$, calcular $\\tilde{\\theta^{(i)}}=\\tilde{\\theta}(x_{1}^{(i)},\\ldots, x_{n}^{(i)})$.\n",
    "\n",
    "3. Calcular\n",
    "$$\n",
    "S_{k}=\\sqrt{\\frac{1}{k}\\sum_{i=1}^{k}\\left(\\tilde{\\theta^{(i)}}-\\bar{\\tilde{\\theta}}\\right)^{2}},\n",
    "$$\n",
    "donde \n",
    "$$\n",
    "\\bar{\\tilde{\\theta}}=\\frac{1}{k}\\sum_{i=1}^{k}\\tilde{\\theta^{(i)}}.\n",
    "$$\n"
   ]
  },
  {
   "cell_type": "markdown",
   "metadata": {},
   "source": [
    "El código 1 corresponde a los pasos $1)$ y $2)$ del algoritmo anterior. Es decir, es la que genera la muestra $\\{\\theta^{(1)}, \\ldots, \\theta^{(k)}\\}$."
   ]
  },
  {
   "cell_type": "code",
   "execution_count": 2,
   "metadata": {},
   "outputs": [],
   "source": [
    "#CÓDIGO 1: \n",
    "\n",
    "thetas<-function(k,vec){\n",
    "    theta=c()\n",
    "for (i in 1:k){\n",
    "    fn<-mean(sample(poi,n,replace = TRUE))\n",
    "    theta[i]<-fn\n",
    "    }\n",
    "    return(theta)\n",
    "}"
   ]
  },
  {
   "cell_type": "markdown",
   "metadata": {},
   "source": [
    "El código 2 es el paso $3)$ del algoritmo, que es calcular el error estándar. "
   ]
  },
  {
   "cell_type": "code",
   "execution_count": 3,
   "metadata": {},
   "outputs": [],
   "source": [
    "#CÓDIGO 2\n",
    "estandar<-function(vec){\n",
    "    k<-length(vec)\n",
    "    sum=0\n",
    "    for(i in 1:k){\n",
    "        sum=sum+(vec[i]-mean(vec))^2        \n",
    "    }\n",
    "    sum=sqrt((1/k)*sum)\n",
    "    return(sum)\n",
    "}"
   ]
  },
  {
   "cell_type": "markdown",
   "metadata": {},
   "source": [
    "Lo que sigue ahora es  aplicar el algoritmo anterior. Lo que se pide hacer es lo siguiente.\n",
    " \n",
    "EJERCICIO 1\n",
    "1. Genere una muestra de tamaño 30 de una distribución Poisson con parámetros $\\theta=3$ y calcule su función de distribución empírica.\n",
    "\n",
    "2. Genere 100 muestras $bootstrap$ y calcule el estimador de $\\theta$ y estime el error estándar.\n",
    "\n",
    "3. Calcule el estimador máximo verosimil de $\\theta$ y su desviación estándar verdadera. Compare con los resultados del inciso anterior."
   ]
  },
  {
   "cell_type": "markdown",
   "metadata": {},
   "source": [
    "Para resolver el ejercio 1, primero aplicamos el código 1 y luego el código 2. Recordemos qué en el código 1 ya se ha generado la muestra (de tamaño 30) de la Poisson de parámetro 3."
   ]
  },
  {
   "cell_type": "code",
   "execution_count": 4,
   "metadata": {},
   "outputs": [
    {
     "data": {
      "text/html": [
       "0.358864530305116"
      ],
      "text/latex": [
       "0.358864530305116"
      ],
      "text/markdown": [
       "0.358864530305116"
      ],
      "text/plain": [
       "[1] 0.3588645"
      ]
     },
     "metadata": {},
     "output_type": "display_data"
    },
    {
     "data": {
      "text/html": [
       "0.372883555005943"
      ],
      "text/latex": [
       "0.372883555005943"
      ],
      "text/markdown": [
       "0.372883555005943"
      ],
      "text/plain": [
       "[1] 0.3728836"
      ]
     },
     "metadata": {},
     "output_type": "display_data"
    }
   ],
   "source": [
    "lambda<-3\n",
    "n<-30\n",
    "poi<-rpois(n,lambda)\n",
    "vec<-thetas(1000,poi)\n",
    "er<-estandar(vec)\n",
    "er2<-sqrt(var(poi)/n)\n",
    "er\n",
    "er2"
   ]
  },
  {
   "cell_type": "code",
   "execution_count": 5,
   "metadata": {},
   "outputs": [
    {
     "name": "stdout",
     "output_type": "stream",
     "text": [
      "[1] \"este es el error estándar aproximado\"\n"
     ]
    },
    {
     "data": {
      "text/html": [
       "0.246461392063296"
      ],
      "text/latex": [
       "0.246461392063296"
      ],
      "text/markdown": [
       "0.246461392063296"
      ],
      "text/plain": [
       "[1] 0.2464614"
      ]
     },
     "metadata": {},
     "output_type": "display_data"
    }
   ],
   "source": [
    "#Damos los datos de una Poisson (una muestra de tamañ0o 30 de parámetro 3).\n",
    "lambda<-3\n",
    "n<-30\n",
    "poi<-rpois(n,lambda)\n",
    "#Generemos la muestra de las thetas.\n",
    "vec<-thetas(1000,poi)\n",
    "#Luego calculamos el error estaándar.\n",
    "print(\"este es el error estándar aproximado\")\n",
    "estandar(vec)"
   ]
  },
  {
   "cell_type": "markdown",
   "metadata": {},
   "source": [
    "Luego el error estándar verdadero se calcula como"
   ]
  },
  {
   "cell_type": "code",
   "execution_count": 6,
   "metadata": {},
   "outputs": [
    {
     "name": "stdout",
     "output_type": "stream",
     "text": [
      "[1] \"este es el error estándar verdadero\"\n"
     ]
    },
    {
     "data": {
      "text/html": [
       "0.247903083275134"
      ],
      "text/latex": [
       "0.247903083275134"
      ],
      "text/markdown": [
       "0.247903083275134"
      ],
      "text/plain": [
       "[1] 0.2479031"
      ]
     },
     "metadata": {},
     "output_type": "display_data"
    }
   ],
   "source": [
    "#Calculando el error estándar verdadero\n",
    "er2<-sqrt(var(poi)/n)\n",
    "print(\"este es el error estándar verdadero\")\n",
    "sqrt(var(rpois(30,3))/30)"
   ]
  },
  {
   "cell_type": "markdown",
   "metadata": {
    "collapsed": true
   },
   "source": [
    "Ahora calculemos el estimador máximo verosimil de $\\theta$. Para esto consideremos la función \n",
    "$$\n",
    "f(x_{1}, \\ldots, x_{n}; \\theta)=\\prod_{i=1}^{n}\\frac{\\theta^{x_{i}}e^{-\\theta}}{x_{i}!}=\\frac{\\theta^{\\sum_{i=1}^{n} x_{i}}e^{-\\theta n}}{\\prod_{i=1}^{n}x_{i}!}.\n",
    "$$\n",
    "Luego\n",
    "\n",
    "$$\n",
    "\\log(f(x_{1}, \\ldots, x_{n}); \\theta)=\\left(\\sum_{i=1}^{n} x_{i}\\right)\\log(\\theta)-\\theta n-\\log\\left(\\prod_{i=1}^{n}x_{i}!\\right),\n",
    "$$\n",
    "de este modo\n",
    "$$\n",
    "\\frac{\\partial \\log(f(x_{1}, \\ldots, x_{n}); \\theta)}{\\partial \\theta}=\\frac{\\sum_{i=1}^{n} x_{i}}{\\theta}-n, \n",
    "$$\n",
    "entonces $\\frac{\\partial \\log(f(x_{1}, \\ldots, x_{n})}{\\partial\\theta}=0$ si $\\theta=\\frac{\\sum_{i=1}^{n} x_{i}}{n}$. Consecuentemente el estimador máximo verosímil está dado por $\\theta=\\bar{x}$."
   ]
  },
  {
   "cell_type": "markdown",
   "metadata": {},
   "source": [
    "Luego surge la siguiente cuestión ¿cómo se calcularía un intervalo al $90\\%$ de confianza para $\\theta$? Respondamos pues a esta pregunta.\n",
    "\n",
    "Sabemos que si $x_{1}, \\ldots, x_{n}$ es una muestra $Po(\\lambda)$, entonces el intervalo de confianza está dado por \n",
    "\\begin{equation}\n",
    "P\\left(\\bar{x}-\\sqrt{\\frac{\\bar{x}}{n}}Z_{1-\\frac{\\alpha}{2}}\\leq \\lambda\\leq\\bar{x}-\\sqrt{\\frac{\\bar{x}}{n}}Z_{1-\\frac{\\alpha}{2}}\\right)=1-\\alpha.    \\ \\      \\ \\     Ec(1)\n",
    "\\end{equation}\n",
    "De este modo, con la información que tenemos, en la ec(1) en lugar de usar $\\sqrt{\\frac{\\bar{x}}{n}}$ usaremos el error estándar que obtuvimos con el método bootstrap. Esto se hace en el código 3."
   ]
  },
  {
   "cell_type": "code",
   "execution_count": 7,
   "metadata": {},
   "outputs": [
    {
     "name": "stdout",
     "output_type": "stream",
     "text": [
      "[1] \"el porcentaje de la veces que intervalo atrapa al parametro es\"\n"
     ]
    },
    {
     "data": {
      "text/html": [
       "84.5"
      ],
      "text/latex": [
       "84.5"
      ],
      "text/markdown": [
       "84.5"
      ],
      "text/plain": [
       "[1] 84.5"
      ]
     },
     "metadata": {},
     "output_type": "display_data"
    },
    {
     "data": {
      "image/png": "[encoded data removed]",
      "text/plain": [
       "plot without title"
      ]
     },
     "metadata": {},
     "output_type": "display_data"
    }
   ],
   "source": [
    "#CÓDIGO 3\n",
    "k<-200\n",
    "val<-list()\n",
    "val[[1]]<-matrix(0,nrow=k,ncol=3)\n",
    "alpha<-0.1\n",
    "z_a<-qnorm(1-alpha/2)\n",
    "sigma<-c()\n",
    "med<-c()\n",
    "for(i in 1:k){\n",
    "  poi1<-rpois(30,3) \n",
    "  vec1<-thetas(k,poi)  \n",
    "  val[[1]][i,1]<-mean(poi1)\n",
    "  med[i]<-val[[1]][i,1]\n",
    "  sigma[i]=estandar(vec1)\n",
    "  val[[1]][i,2]<-val[[1]][i,1]+(z_a*(sigma[i])) # lim sup del int\n",
    "  val[[1]][i,3]<-val[[1]][i,1]-(z_a*(sigma[i])) \n",
    "}\n",
    "\n",
    "mu<-lambda\n",
    "cont=0\n",
    "par(mfrow=c(1,1))\n",
    "data<-val[[1]]\n",
    "options(repr.plot.width=8, repr.plot.height=5)\n",
    "plot(seq(min(c(data[,3])),max(c(data[,2])),l=k), seq(1:k), type=\"n\", xlab=c(\"\"), ylab=c(\"\"))\n",
    "for(i in 1:nrow(data)){  \n",
    "  segments(mu[i],1,mu[i],k)\n",
    "  if(mu>data[i,3]&mu<data[i,2]){\n",
    "    segments(data[i,3],i,data[i,2],i, col=\"blue\")\n",
    "    cont=cont+1\n",
    "  }else (\n",
    "    segments(data[i,3],i,data[i,2],i, col=\"red\"))\n",
    "}\n",
    "cont=(cont/k)*100       \n",
    "print(\"el porcentaje de la veces que intervalo atrapa al parametro es\")\n",
    "cont \n",
    "    "
   ]
  },
  {
   "cell_type": "code",
   "execution_count": 37,
   "metadata": {},
   "outputs": [
    {
     "data": {
      "text/html": [
       "1.81993833443814"
      ],
      "text/latex": [
       "1.81993833443814"
      ],
      "text/markdown": [
       "1.81993833443814"
      ],
      "text/plain": [
       "[1] 1.819938"
      ]
     },
     "metadata": {},
     "output_type": "display_data"
    }
   ],
   "source": [
    "mu<-2\n",
    "sigma2<-1\n",
    "norm<-rnorm(30,mu,sigma)\n",
    "#la esperanza es \n",
    "mu_m<-mean(norm)\n",
    "gX<-exp(mu)\n",
    "var1<-sigma2*((gX)^2)\n",
    "var1"
   ]
  },
  {
   "cell_type": "code",
   "execution_count": 36,
   "metadata": {},
   "outputs": [
    {
     "data": {
      "text/html": [
       "3.99577701719661"
      ],
      "text/latex": [
       "3.99577701719661"
      ],
      "text/markdown": [
       "3.99577701719661"
      ],
      "text/plain": [
       "[1] 3.995777"
      ]
     },
     "metadata": {},
     "output_type": "display_data"
    }
   ],
   "source": [
    "lognorm<-exp(norm)\n",
    "var(lognorm)"
   ]
  }
 ],
 "metadata": {
  "anaconda-cloud": {},
  "kernelspec": {
   "display_name": "R",
   "language": "R",
   "name": "ir"
  },
  "language_info": {
   "codemirror_mode": "r",
   "file_extension": ".r",
   "mimetype": "text/x-r-source",
   "name": "R",
   "pygments_lexer": "r",
   "version": "3.3.2"
  }
 },
 "nbformat": 4,
 "nbformat_minor": 1
}
